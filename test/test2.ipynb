{
 "cells": [
  {
   "cell_type": "code",
   "execution_count": 46,
   "metadata": {},
   "outputs": [],
   "source": [
    "import numpy as np"
   ]
  },
  {
   "cell_type": "code",
   "execution_count": 47,
   "metadata": {},
   "outputs": [
    {
     "data": {
      "text/plain": [
       "(array([[1, 1],\n",
       "        [0, 2],\n",
       "        [3, 1],\n",
       "        [0, 0],\n",
       "        [2, 2],\n",
       "        [3, 0],\n",
       "        [2, 3],\n",
       "        [3, 0],\n",
       "        [3, 0],\n",
       "        [0, 0]], dtype=int32),\n",
       " array([[3, 0],\n",
       "        [1, 2],\n",
       "        [3, 3],\n",
       "        [2, 1],\n",
       "        [2, 2]], dtype=int32))"
      ]
     },
     "execution_count": 47,
     "metadata": {},
     "output_type": "execute_result"
    }
   ],
   "source": [
    "data=np.random.randint(0,4,(10,2))\n",
    "dx=np.random.randint(0,4,(5,2))\n",
    "data,dx"
   ]
  },
  {
   "cell_type": "code",
   "execution_count": 49,
   "metadata": {},
   "outputs": [
    {
     "data": {
      "text/plain": [
       "array([[0, 0],\n",
       "       [0, 2],\n",
       "       [1, 1],\n",
       "       [2, 3],\n",
       "       [3, 1]], dtype=int32)"
      ]
     },
     "execution_count": 49,
     "metadata": {},
     "output_type": "execute_result"
    }
   ],
   "source": [
    "data_x=data.view([('',data.dtype)]*data.shape[1])\n",
    "dx_x=dx.view([('',dx.dtype)]*dx.shape[1])\n",
    "np.setdiff1d(data_x,dx_x).view(data.dtype).reshape(-1,2)"
   ]
  },
  {
   "cell_type": "code",
   "execution_count": 51,
   "metadata": {},
   "outputs": [
    {
     "data": {
      "text/plain": [
       "array([[0, 0],\n",
       "       [0, 2],\n",
       "       [1, 1],\n",
       "       [2, 3],\n",
       "       [3, 1]], dtype=int32)"
      ]
     },
     "execution_count": 51,
     "metadata": {},
     "output_type": "execute_result"
    }
   ],
   "source": [
    "a=data.view([('',data.dtype)]*data.shape[1])\n",
    "b=dx.view([('',dx.dtype)]*dx.shape[1])\n",
    "\n",
    "np.setdiff1d(a,b).view(data.dtype).reshape(-1,2)"
   ]
  },
  {
   "cell_type": "code",
   "execution_count": null,
   "metadata": {},
   "outputs": [],
   "source": []
  }
 ],
 "metadata": {
  "kernelspec": {
   "display_name": "cv",
   "language": "python",
   "name": "python3"
  },
  "language_info": {
   "codemirror_mode": {
    "name": "ipython",
    "version": 3
   },
   "file_extension": ".py",
   "mimetype": "text/x-python",
   "name": "python",
   "nbconvert_exporter": "python",
   "pygments_lexer": "ipython3",
   "version": "3.12.7"
  }
 },
 "nbformat": 4,
 "nbformat_minor": 2
}
