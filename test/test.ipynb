{
 "cells": [
  {
   "cell_type": "code",
   "execution_count": 115,
   "metadata": {},
   "outputs": [],
   "source": [
    "import numpy as np\n",
    "import cv2"
   ]
  },
  {
   "cell_type": "code",
   "execution_count": 116,
   "metadata": {},
   "outputs": [
    {
     "data": {
      "text/plain": [
       "(array([[5.40801653],\n",
       "        [4.65193149],\n",
       "        [7.41167431],\n",
       "        [4.16178089],\n",
       "        [5.83474248]]),\n",
       " array([[10.4024917 ],\n",
       "        [ 9.50494666],\n",
       "        [10.97616656],\n",
       "        [ 9.65437917],\n",
       "        [10.45332725]]))"
      ]
     },
     "execution_count": 116,
     "metadata": {},
     "output_type": "execute_result"
    }
   ],
   "source": [
    "x=np.random.randn(5,1)+5\n",
    "y=np.random.randn(5,1)+10\n",
    "x,y"
   ]
  },
  {
   "cell_type": "code",
   "execution_count": 117,
   "metadata": {},
   "outputs": [
    {
     "data": {
      "text/plain": [
       "array([[10, 11, 11, 10],\n",
       "       [ 9, 10, 10,  9],\n",
       "       [10, 11, 11, 10],\n",
       "       [ 9, 10, 10,  9],\n",
       "       [10, 11, 11, 10]], dtype=int32)"
      ]
     },
     "execution_count": 117,
     "metadata": {},
     "output_type": "execute_result"
    }
   ],
   "source": [
    "xf=np.floor(x)\n",
    "yf=np.floor(y)\n",
    "cornerx=np.array([0,0,1,1])\n",
    "cornery=np.array([0,1,1,0])\n",
    "idx=(xf+cornerx).astype(np.int32)\n",
    "idy=(yf+cornery).astype(np.int32)\n",
    "idy"
   ]
  },
  {
   "cell_type": "code",
   "execution_count": 118,
   "metadata": {},
   "outputs": [
    {
     "data": {
      "text/plain": [
       "(array([[5, 5, 6, 6],\n",
       "        [4, 4, 5, 5],\n",
       "        [7, 7, 8, 8],\n",
       "        [4, 4, 5, 5],\n",
       "        [5, 5, 6, 6]], dtype=int32),\n",
       " array([[10, 11, 11, 10],\n",
       "        [ 9, 10, 10,  9],\n",
       "        [10, 11, 11, 10],\n",
       "        [ 9, 10, 10,  9],\n",
       "        [10, 11, 11, 10]], dtype=int32))"
      ]
     },
     "execution_count": 118,
     "metadata": {},
     "output_type": "execute_result"
    }
   ],
   "source": [
    "idx,idy"
   ]
  },
  {
   "cell_type": "code",
   "execution_count": 119,
   "metadata": {},
   "outputs": [],
   "source": [
    "img=cv2.imread(r'imgs\\sea.jpg')\n",
    "points=img[idy,idx]"
   ]
  },
  {
   "cell_type": "code",
   "execution_count": 120,
   "metadata": {},
   "outputs": [
    {
     "data": {
      "text/plain": [
       "array([[0.59198347],\n",
       "       [0.34806851],\n",
       "       [0.58832569],\n",
       "       [0.83821911],\n",
       "       [0.16525752]])"
      ]
     },
     "execution_count": 120,
     "metadata": {},
     "output_type": "execute_result"
    }
   ],
   "source": [
    "radio_x=1-(x-xf)\n",
    "radio_y=1-(y-yf)\n",
    "radio_x #(5,1)"
   ]
  },
  {
   "cell_type": "code",
   "execution_count": 121,
   "metadata": {},
   "outputs": [],
   "source": [
    "diffx=np.abs(radio_x-cornerx[None,:])\n",
    "diffy=np.abs(radio_y-cornery[None,:])\n",
    "raidx=(diffx*diffy)"
   ]
  },
  {
   "cell_type": "code",
   "execution_count": 122,
   "metadata": {},
   "outputs": [
    {
     "data": {
      "text/plain": [
       "array([[ 40.7356181 ,  79.58902666,  56.2241719 ],\n",
       "       [ 37.34004629,  59.32045117,  42.53051942],\n",
       "       [ 51.54305201, 110.68642222,  79.38831373],\n",
       "       [ 27.03934208,  47.7036727 ,  32.4580848 ],\n",
       "       [ 44.54304721,  85.01244089,  59.80067229]])"
      ]
     },
     "execution_count": 122,
     "metadata": {},
     "output_type": "execute_result"
    }
   ],
   "source": [
    "(points*raidx[:,:,None]).sum(axis=1)"
   ]
  },
  {
   "cell_type": "code",
   "execution_count": 123,
   "metadata": {},
   "outputs": [
    {
     "data": {
      "text/plain": [
       "array([[[ 28,  60,  41],\n",
       "        [ 49,  96,  70],\n",
       "        [ 35,  84,  56],\n",
       "        [ 55,  89,  65]],\n",
       "\n",
       "       [[ 42,  55,  41],\n",
       "        [ 16,  39,  24],\n",
       "        [ 28,  60,  41],\n",
       "        [ 56,  72,  55]],\n",
       "\n",
       "       [[ 46,  86,  61],\n",
       "        [ 57, 114,  83],\n",
       "        [ 44, 107,  75],\n",
       "        [ 49, 103,  74]],\n",
       "\n",
       "       [[ 42,  55,  41],\n",
       "        [ 16,  39,  24],\n",
       "        [ 28,  60,  41],\n",
       "        [ 56,  72,  55]],\n",
       "\n",
       "       [[ 28,  60,  41],\n",
       "        [ 49,  96,  70],\n",
       "        [ 35,  84,  56],\n",
       "        [ 55,  89,  65]]], dtype=uint8)"
      ]
     },
     "execution_count": 123,
     "metadata": {},
     "output_type": "execute_result"
    }
   ],
   "source": [
    "points"
   ]
  },
  {
   "cell_type": "code",
   "execution_count": 125,
   "metadata": {},
   "outputs": [
    {
     "name": "stderr",
     "output_type": "stream",
     "text": [
      "C:\\Users\\sk759\\AppData\\Local\\Temp\\ipykernel_16744\\3918668843.py:4: DeprecationWarning: Conversion of an array with ndim > 0 to a scalar is deprecated, and will error in future. Ensure you extract a single element from your array before performing this operation. (Deprecated NumPy 1.25.)\n",
      "  left=int(np.floor(x))\n",
      "C:\\Users\\sk759\\AppData\\Local\\Temp\\ipykernel_16744\\3918668843.py:5: DeprecationWarning: Conversion of an array with ndim > 0 to a scalar is deprecated, and will error in future. Ensure you extract a single element from your array before performing this operation. (Deprecated NumPy 1.25.)\n",
      "  right=int(np.ceil(x))\n",
      "C:\\Users\\sk759\\AppData\\Local\\Temp\\ipykernel_16744\\3918668843.py:6: DeprecationWarning: Conversion of an array with ndim > 0 to a scalar is deprecated, and will error in future. Ensure you extract a single element from your array before performing this operation. (Deprecated NumPy 1.25.)\n",
      "  up=int(np.floor(y))\n",
      "C:\\Users\\sk759\\AppData\\Local\\Temp\\ipykernel_16744\\3918668843.py:7: DeprecationWarning: Conversion of an array with ndim > 0 to a scalar is deprecated, and will error in future. Ensure you extract a single element from your array before performing this operation. (Deprecated NumPy 1.25.)\n",
      "  down=int(np.ceil(y))\n"
     ]
    },
    {
     "data": {
      "text/plain": [
       "array([37.34004629, 59.32045117, 42.53051942])"
      ]
     },
     "execution_count": 125,
     "metadata": {},
     "output_type": "execute_result"
    }
   ],
   "source": [
    "def chazhi(point,img):\n",
    "\n",
    "    x,y=point\n",
    "    left=int(np.floor(x))\n",
    "    right=int(np.ceil(x))\n",
    "    up=int(np.floor(y))\n",
    "    down=int(np.ceil(y))\n",
    "    a=x-left\n",
    "    b=y-up\n",
    "    value=(1-a)*(1-b)*img[up,left]+a*(1-b)*img[up,right]+(1-a)*b*img[down,left]+a*b*img[down,right]\n",
    "\n",
    "    return value\n",
    "\n",
    "pt=[x[1],y[1]]\n",
    "chazhi(pt,img)"
   ]
  },
  {
   "cell_type": "code",
   "execution_count": 126,
   "metadata": {},
   "outputs": [
    {
     "data": {
      "text/plain": [
       "[array([[0.60475216],\n",
       "        [0.37300728],\n",
       "        [0.52546708],\n",
       "        [0.30911209]]),\n",
       " array([[0.04365116],\n",
       "        [0.45574506],\n",
       "        [0.7335706 ],\n",
       "        [0.70431486]])]"
      ]
     },
     "execution_count": 126,
     "metadata": {},
     "output_type": "execute_result"
    }
   ],
   "source": [
    "cc=np.random.rand(4,2)\n",
    "np.split(cc,[1],axis=1,)"
   ]
  },
  {
   "cell_type": "code",
   "execution_count": null,
   "metadata": {},
   "outputs": [],
   "source": []
  }
 ],
 "metadata": {
  "kernelspec": {
   "display_name": "cv",
   "language": "python",
   "name": "python3"
  },
  "language_info": {
   "codemirror_mode": {
    "name": "ipython",
    "version": 3
   },
   "file_extension": ".py",
   "mimetype": "text/x-python",
   "name": "python",
   "nbconvert_exporter": "python",
   "pygments_lexer": "ipython3",
   "version": "3.12.7"
  }
 },
 "nbformat": 4,
 "nbformat_minor": 2
}
